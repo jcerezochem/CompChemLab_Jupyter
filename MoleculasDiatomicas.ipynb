{
 "cells": [
  {
   "cell_type": "markdown",
   "id": "assigned-gentleman",
   "metadata": {},
   "source": [
    "# Orbitales moleculares y curvas de energía potencial\n",
    "# Parte 1: Moléculas diatómicas\n",
    "\n",
    "Javier Cerezo, UAM (Madrid)</p>\n",
    "Marzo 2021\n"
   ]
  },
  {
   "cell_type": "markdown",
   "id": "small-immigration",
   "metadata": {},
   "source": [
    "## Inicialización"
   ]
  },
  {
   "cell_type": "code",
   "execution_count": 41,
   "id": "small-evanescence",
   "metadata": {},
   "outputs": [],
   "source": [
    "# Import modules\n",
    "import nglview as nv\n",
    "import ase.io\n",
    "# Load psi4 to compute orbitals\n",
    "import psi4\n",
    "import qcelemental as qcel\n",
    "# Interactive stuff (ipywidgets)\n",
    "import ipywidgets as widgets\n",
    "from ipywidgets import interactive, VBox, HBox, Output\n",
    "# Matplotlib to make plots\n",
    "%matplotlib widget\n",
    "import matplotlib.pyplot as plt\n",
    "# Numpy for matrix manipulation and scipy for interpolation\n",
    "import numpy as np\n",
    "from scipy.interpolate import interp1d\n",
    "# datetime to get unique job id:\n",
    "from datetime import datetime\n",
    "from uuid import uuid4\n",
    "# Manage files/folders\n",
    "import os, shutil, glob"
   ]
  },
  {
   "cell_type": "markdown",
   "id": "successful-reality",
   "metadata": {},
   "source": [
    "<font color='red'>**ATENCIÓN**</font>: \n",
    "Ejecuta la siguiente celda antes de iniciar la práctica. **NO** vuelvas a ejecutarla una vez iniciada."
   ]
  },
  {
   "cell_type": "code",
   "execution_count": 42,
   "id": "meaningful-ceremony",
   "metadata": {},
   "outputs": [],
   "source": [
    "# Get unique job_id\n",
    "job_id = datetime.now().strftime('%Y%m%d%H%M%S') + '_' + str(uuid4())[:5]\n",
    "\n",
    "# Create a folder with job_id name and change cwd to it\n",
    "user = os.getenv(\"USER\")\n",
    "base_path = os.getcwd() + '/'\n",
    "#os.chdir(base_path)\n",
    "job_path = base_path + job_id + '/'\n",
    "os.mkdir(job_path)\n",
    "#os.chdir(job_path)\n",
    "\n",
    "# NOTE:\n",
    "# There is a conflict between file loading by ase/nv and os.chdir. So, chdir is not used\n",
    "# along the note book. Instead, files generated in-place (e.g. cubefiles) are copied to \n",
    "# created folders. This implies that simultaneous run of this notebook may lead to \n",
    "# unexpected results in some cases (but rather unlikely)"
   ]
  },
  {
   "cell_type": "markdown",
   "id": "together-scenario",
   "metadata": {},
   "source": [
    "## Datos de entrada\n",
    "\n",
    "Los datos de entrada para un cálculo de estructura electrónica son:\n",
    "\n",
    "* Posición de los núcleos atómicos\n",
    "* Carga de cada núcleo (número atómico)\n",
    "* Número total de electrones en el sistema\n",
    "* Número de electrones desapareados (multiplicidad de espín)\n",
    "\n",
    "Todos estos datos quedan definidos indicando la estructura molecular junto con la carga y multiplicidad.\n",
    "\n",
    "Existen una gran cantidad de formatos estandarizados para escribir la geometría molecular. Entre ellos, uno de los más sencillos, es el formato `xyz`, en el que la primera línea indica el número de átomo, la segunda puede usarse para incluir una descripción y las siguientes contienen el elemento junto con las posiciones X,Y,Z del núcleo (en Angstrongs). Para moléculas complejas, podemos usar editores moleculares que permiten construir las moléculas gráficamente. Para moléculas sencillas, como las diatómicas, pueden escribirse estos ficheros \"a mano\". En el caso de una molécula diatómica, basta con especificar los elementos que corresponden a cada átomo y la distancia de enlace para construir la estructura. Indica esta información en el formulario que aparece al ejecutar la siguiente celda. Se generará la estrucutra en formato `xyz`."
   ]
  },
  {
   "cell_type": "code",
   "execution_count": 3,
   "id": "concrete-walker",
   "metadata": {
    "hide_input": false
   },
   "outputs": [
    {
     "data": {
      "application/vnd.jupyter.widget-view+json": {
       "model_id": "c75654d7a5fe455fac2f77d6e8b3e7b6",
       "version_major": 2,
       "version_minor": 0
      },
      "text/plain": [
       "interactive(children=(Text(value='F', description='Átomo 1'), Text(value='H', description='Átomo 2'), FloatTex…"
      ]
     },
     "metadata": {},
     "output_type": "display_data"
    }
   ],
   "source": [
    "def set_structure(at1,at2,dist):\n",
    "    global fxyz, geomxyz\n",
    "    \n",
    "    if len(at1) == 0 or len(at2) == 0:\n",
    "        return None\n",
    "    \n",
    "    \n",
    "    if at1 not in qcel.periodictable.E:\n",
    "        raise BaseException('Átomo desconocido: {}'.format(at1))\n",
    "    if at2 not in qcel.periodictable.E:\n",
    "        raise BaseException('Átomo desconocido: {}'.format(at2))\n",
    "    \n",
    "    if at1 == at2:\n",
    "        mol_name = at1+'2'\n",
    "    else:\n",
    "        mol_name = at1 + at2\n",
    "    \n",
    "    comment='Molécula de {}'.format(mol_name)\n",
    "\n",
    "    # Estructura molecular\n",
    "    ## Formato: XYZ\n",
    "    geomxyz = '''2\n",
    "    {}\n",
    "    {} 0.0 0.0 0.0\n",
    "    {} 0.0 0.0 {:<8.3f}\n",
    "    '''.format(comment,at1,at2,dist)\n",
    "    print('------------------------------\\n'+geomxyz)\n",
    "    fxyz = job_path+'test.xyz'\n",
    "    null = open(fxyz,'w').write(geomxyz)\n",
    "\n",
    "interactive(set_structure,\n",
    "            at1 = widgets.Text(value = 'F', description = 'Átomo 1'),\n",
    "            at2 = widgets.Text(value = 'H', description = 'Átomo 2'),\n",
    "            dist = widgets.FloatText(value = 1.00, step=0.1, description = 'Dist (Å)'))"
   ]
  },
  {
   "cell_type": "markdown",
   "id": "bored-event",
   "metadata": {},
   "source": [
    "Podemos visualizar la estructura resultante con una gran variedad de visores. En este documento interactivo se hace uso de uno de ellos. La siguiente celda muestra la estructura. Usa el ratón para acercar/alejar y rotar las molécula. Puedes mostrar la distancia de enlace presionando el sobre él con el botón derecho del ratón."
   ]
  },
  {
   "cell_type": "code",
   "execution_count": 4,
   "id": "running-preference",
   "metadata": {},
   "outputs": [
    {
     "data": {
      "application/vnd.jupyter.widget-view+json": {
       "model_id": "5b07e1753c0e41d8bb3b79bc1df27334",
       "version_major": 2,
       "version_minor": 0
      },
      "text/plain": [
       "NGLWidget()"
      ]
     },
     "metadata": {},
     "output_type": "display_data"
    }
   ],
   "source": [
    "mol = ase.io.read(fxyz)\n",
    "view1 = nv.show_ase(mol)\n",
    "view1.parameters = {\"clipNear\": 0, \"clipFar\": 100, \"clipDist\": 1}\n",
    "view1"
   ]
  },
  {
   "cell_type": "markdown",
   "id": "informational-gates",
   "metadata": {},
   "source": [
    "Como hemos dicho anteriormente, para poder realizar un cálculo de estructura electrónica, necesitamos indicar, además de la estructura molecular, su carga total y la multiplicidad de espín. El fichero de entrada de un programa de cálculo electrónica debe contener estos datos, junto con la estructura.\n",
    "\n",
    "Para esta práctica, solo vamos a realizar cálculos con estructuras singlete (`mult=1`). Ten en cuenta que no todas las cambinaciones de carga y multiplicidad son físicamente válidos. En el caso de \n",
    "\n",
    "En el caso de `Psi4`, el programa que vamos a usar en esta práctica, el fichero de entrada quedaría como indica la celda siguiente:"
   ]
  },
  {
   "cell_type": "code",
   "execution_count": 5,
   "id": "grave-solution",
   "metadata": {
    "scrolled": false
   },
   "outputs": [
    {
     "data": {
      "application/vnd.jupyter.widget-view+json": {
       "model_id": "2a5e64e33eee45b69c0d1edeee4b2859",
       "version_major": 2,
       "version_minor": 0
      },
      "text/plain": [
       "interactive(children=(Combobox(value='0', description='Carga', options=('-2', '-1', '0', '1', '2')), Dropdown(…"
      ]
     },
     "metadata": {},
     "output_type": "display_data"
    }
   ],
   "source": [
    "def set_mol(carga,mult):\n",
    "    global geomxyz, psi4_mol\n",
    "    \n",
    "    # Generate input\n",
    "    psi4_inp = geomxyz.split('\\n')\n",
    "    psi4_inp = '\\n'.join(psi4_inp[2:])\n",
    "    psi4_inp = '{} {}\\n'.format(carga,mult) + psi4_inp\n",
    "    # Show on screen\n",
    "    print('----------------------------------\\n'+psi4_inp)\n",
    "    # Set psi4 Molecule\n",
    "    try:\n",
    "        psi4_mol = psi4.geometry(psi4_inp)\n",
    "    except:\n",
    "        raise BaseException('La combinación de carga {} y multiplicidad {} es imposible'.format(carga,mult))\n",
    "\n",
    "cargas = [ str(i) for i in range(-2,3) ]\n",
    "    \n",
    "interactive(set_mol,\n",
    "            carga = widgets.Combobox(value = '0', options = cargas, description = 'Carga',ensure_option=False),\n",
    "            mult  = widgets.Dropdown(value = '1', options = ['1'], description = 'Mult', ensure_option=True))"
   ]
  },
  {
   "cell_type": "markdown",
   "id": "popular-ecuador",
   "metadata": {},
   "source": [
    "## Cálculo electrónico\n",
    "\n",
    "Un cálculo electrónico consiste en resolver la ecuación de Schrödinger electrónica:\n",
    "\n",
    "\\begin{equation}\n",
    "\\hat{H}_{el}\\psi_{el}(\\mathbf{r};\\mathbf{R}) = E_{el}(\\mathbf{R})\\psi_{el}(\\mathbf{r};\\mathbf{R})\n",
    "\\label{Eq:Schr}\n",
    "\\end{equation}\n",
    "\n",
    "Y la energía total del sistema debe incluir, además de $E_{el}$ la repulsión entre núcleos:\n",
    "\n",
    "\\begin{equation}\n",
    "V(\\mathbf{R}) = E_{el}(\\mathbf{R}) + \\sum_{i=1}^{i=n_{at}}\\sum_{j=1}^{j<i}\\frac{Z_iZ_j}{|R_i-R_j|}\n",
    "\\end{equation}\n",
    "\n",
    "Sin embargo, la resolución de la ecuación (\\ref{Eq:Schr}) solo es posible, de forma exacta, para la molécula de dihidrógeno (o moléculas/iones análogos, con un solo electrón). Para el resto, debemos emplear aproximaciones. Por esta razón, debemos de indicar al programa cuál es la aproximación que vamos a emplear. \n",
    "\n",
    "En esta práctica, vamos a emplear la teoría del funcional de la densidad (DFT, por sus siglas en inglés) como método para resolver el problema electrónico.\n",
    "\n",
    "### Ajustes del cálculo\n",
    "\n",
    "Aunque el método DFT es, en principio, exacta, en la práctica debemos de emplear un funcional aproximado entre la larga lista de funcionales desarrollados hasta la fecha. Elije un funcional de los propuestos en el menú desplegable que aparece al ejecutar la siguiente celda: "
   ]
  },
  {
   "cell_type": "code",
   "execution_count": 6,
   "id": "general-aruba",
   "metadata": {},
   "outputs": [
    {
     "data": {
      "application/vnd.jupyter.widget-view+json": {
       "model_id": "38e27ab5b5fa4245bcda616a262a42c1",
       "version_major": 2,
       "version_minor": 0
      },
      "text/plain": [
       "interactive(children=(Dropdown(description='Funcional: ', options=('B3LYP', 'PBE0', 'WB97X'), value='B3LYP'), …"
      ]
     },
     "metadata": {},
     "output_type": "display_data"
    }
   ],
   "source": [
    "avail_functionals = ['B3LYP','PBE0','WB97X']\n",
    "\n",
    "def get_var(option):\n",
    "    global funcional\n",
    "    funcional = option\n",
    "    return None\n",
    "\n",
    "interactive(get_var,option = widgets.Dropdown(options = avail_functionals, description=\"Funcional: \"))"
   ]
  },
  {
   "cell_type": "markdown",
   "id": "blond-medicine",
   "metadata": {},
   "source": [
    "Asimismo, además de emplear un funcional aproximado, la resolución de las ecuaciones se realizar numéricamente, para lo que es necesario introducir un conjunto de funciones de base. Elije un conjunto de funciones de base de los propuestos en el menú desplegable que crea la siguiente celda:"
   ]
  },
  {
   "cell_type": "code",
   "execution_count": 7,
   "id": "personal-deviation",
   "metadata": {},
   "outputs": [
    {
     "data": {
      "application/vnd.jupyter.widget-view+json": {
       "model_id": "a0ec88625d3443439630d47ed76b9fe6",
       "version_major": 2,
       "version_minor": 0
      },
      "text/plain": [
       "interactive(children=(Dropdown(description='Funciones de base: ', options=('6-31G(d)', '6-31+G(d)', 'aug-cc-pV…"
      ]
     },
     "metadata": {},
     "output_type": "display_data"
    }
   ],
   "source": [
    "avail_basis = ['6-31G(d)','6-31+G(d)','aug-cc-pVDZ']\n",
    "\n",
    "def get_var(option):\n",
    "    global base\n",
    "    base = option\n",
    "    return None\n",
    "\n",
    "interactive(get_var,option = widgets.Dropdown(options = avail_basis, description=\"Funciones de base: \"))"
   ]
  },
  {
   "cell_type": "markdown",
   "id": "federal-campbell",
   "metadata": {},
   "source": [
    "### Energía en un punto y optimización\n",
    "\n",
    "Ya tenemos todo lo neceario para realizar el cálculo. Nuestro método nos va a proporcionar una aproximación a la energía total del sistema y la función de onda. Realiza el cálculo ejecutando la celda siguiente (puede tardar varios segundos)."
   ]
  },
  {
   "cell_type": "code",
   "execution_count": 8,
   "id": "congressional-penetration",
   "metadata": {},
   "outputs": [
    {
     "name": "stdout",
     "output_type": "stream",
     "text": [
      "Método de cálculo: B3LYP/6-31G(d)\n",
      "Energía: -100.416 hartrees\n",
      "Distancia de enlace (inicial):    1.000 Å\n"
     ]
    }
   ],
   "source": [
    "# Cálculo de la energía\n",
    "E, wfn = psi4.energy(funcional+'/'+base,return_wfn=True)\n",
    "\n",
    "print('Método de cálculo: {}/{}'.format(funcional,base))\n",
    "print('Energía: {:8.3f} hartrees'.format(E))\n",
    "\n",
    "dist = mol.get_distance(0,1)\n",
    "print('Distancia de enlace (inicial): {:8.3f} Å'.format(dist))"
   ]
  },
  {
   "cell_type": "markdown",
   "id": "parliamentary-patio",
   "metadata": {},
   "source": [
    "----------------\n",
    "\n",
    "Como vemos, al terminar el cálculo, tenemos acceso a la energía del sistema. Además, obtenemos también una función de onda, que consiste en el producto de funciones monoelectrónicas: los **orbitales moleculares**, que vamos a analizar en la siguiente sección. \n",
    "\n",
    "Antes, vamos a obtener la estructura de equilibrio, es decir, aquella para la que la energía del sistema se minimiza. Como hemos indicado anteriormente, la energía del sistema es una función de la posición de los núcleos atómicos, $V(R)$. En este caso, será una función de la distancia del único enlace.\n",
    "\n",
    "Para obtener la energía del mínimo temos que minimizar la energía (optimizar la función energía). Los programas de cálculo electrónico proporcionan métodos numéricos para realizar esta optimización."
   ]
  },
  {
   "cell_type": "code",
   "execution_count": 9,
   "id": "steady-compatibility",
   "metadata": {},
   "outputs": [
    {
     "name": "stdout",
     "output_type": "stream",
     "text": [
      "Optimizer: Optimization complete!\n",
      "Energía: -100.420 hartrees\n",
      "Distancia de enlace (equilibrio):    0.934 Å\n"
     ]
    }
   ],
   "source": [
    "# Optimización de la energía (estructura de equilibrio)\n",
    "E, wfn = psi4.optimize(funcional+'/'+base,return_wfn=True)\n",
    "\n",
    "print('Energía: {:8.3f} hartrees'.format(E))\n",
    "\n",
    "# New structure to ase object\n",
    "geomxyz = psi4_mol.to_string('xyz')\n",
    "fxyz = job_path+'test.xyz'\n",
    "null = open(fxyz,'w').write(geomxyz)\n",
    "mol = ase.io.read(fxyz)\n",
    "\n",
    "dist = mol.get_distance(0,1)\n",
    "print('Distancia de enlace (equilibrio): {:8.3f} Å'.format(dist))"
   ]
  },
  {
   "cell_type": "markdown",
   "id": "animal-casting",
   "metadata": {},
   "source": [
    "A continuación, podemos mostrar la estructura optimizada ejecutando la celda siguiente."
   ]
  },
  {
   "cell_type": "code",
   "execution_count": 10,
   "id": "equivalent-polls",
   "metadata": {},
   "outputs": [
    {
     "data": {
      "application/vnd.jupyter.widget-view+json": {
       "model_id": "182979abfbcc425db7ec34a893060fef",
       "version_major": 2,
       "version_minor": 0
      },
      "text/plain": [
       "NGLWidget()"
      ]
     },
     "metadata": {},
     "output_type": "display_data"
    }
   ],
   "source": [
    "mol = ase.io.read(fxyz)\n",
    "view2 = nv.show_ase(mol)\n",
    "view2.parameters = {\"clipNear\": 0, \"clipFar\": 100, \"clipDist\": 1}\n",
    "view2"
   ]
  },
  {
   "cell_type": "markdown",
   "id": "satellite-matter",
   "metadata": {},
   "source": [
    "--------------\n",
    "\n",
    "### Orbitales moleculares"
   ]
  },
  {
   "cell_type": "markdown",
   "id": "spiritual-intermediate",
   "metadata": {},
   "source": [
    "En primer lugar debemos generar los ficheros que contienen el valor de cada función (orbital molecular) sobre una maya de puntos tridimensional. Usamos el formato `cube`, bastante extendido para guardar datos volumétricos."
   ]
  },
  {
   "cell_type": "code",
   "execution_count": 11,
   "id": "toxic-quest",
   "metadata": {},
   "outputs": [],
   "source": [
    "# Create a new folder ('SinglePoint') to generate the cube files on\n",
    "cube_folder = 'SinglePoint/'\n",
    "cube_path = job_path + cube_folder\n",
    "try:\n",
    "    os.mkdir(cube_path)\n",
    "except:\n",
    "    shutil.rmtree(cube_path, ignore_errors=True)\n",
    "    os.mkdir(cube_path)\n",
    "#os.chdir(cube_path)\n",
    "# Generate cubes\n",
    "psi4.driver.p4util.cubeprop(wfn)\n",
    "# Retunr\n",
    "#os.chdir(job_path)\n",
    "\n",
    "# Avoiding os.chdir, Seems to be the cause of some isses loading files\n",
    "# Or maybe we simply need to provide always the full path (instead of\n",
    "# relative path).\n",
    "# We'll try to avoid chdir for now:\n",
    "# The following step (glob search) can cause conflicts with other running\n",
    "# notebooks if executed from both\n",
    "cubefiles = glob.glob('Psi_*cube')\n",
    "for cubefile in cubefiles:\n",
    "    os.rename(cubefile,cube_path + cubefile)\n",
    "os.rename('geom.xyz',cube_path + 'geom.xyz')"
   ]
  },
  {
   "cell_type": "markdown",
   "id": "native-jewel",
   "metadata": {},
   "source": [
    "Una vez generados los ficheros en formato `cube` podemos representarlos. Antes de proceder a ello, vamos a escoger si deseamos que se muestren los orbitales internos."
   ]
  },
  {
   "cell_type": "code",
   "execution_count": 12,
   "id": "rental-lesson",
   "metadata": {},
   "outputs": [
    {
     "data": {
      "application/vnd.jupyter.widget-view+json": {
       "model_id": "1310c57d86ea4afbb0f7fa5b5d450401",
       "version_major": 2,
       "version_minor": 0
      },
      "text/plain": [
       "interactive(children=(Checkbox(value=True, description='Ignorar OM internos'), Output()), _dom_classes=('widge…"
      ]
     },
     "metadata": {},
     "output_type": "display_data"
    }
   ],
   "source": [
    "# Get core orbitals\n",
    "n_per_shell = [1,4,9,16,]\n",
    "n_core  = 0\n",
    "for Z in mol.numbers:\n",
    "    p = qcel.periodictable.to_period(Z)\n",
    "    n_core += np.array([ n_per_shell[i] for i in range(p-1) ],dtype=int).sum()\n",
    "\n",
    "# Set interactive option\n",
    "def get_var(option):\n",
    "    global skip_core\n",
    "    skip_core = option\n",
    "    return None\n",
    "\n",
    "interactive(get_var,\n",
    "            option = widgets.Checkbox(value=True,description='Ignorar OM internos'))"
   ]
  },
  {
   "cell_type": "markdown",
   "id": "hollywood-creativity",
   "metadata": {},
   "source": [
    "La siguiente celda (escondida por defecto) recopila información relavante de los orbitales y los dibuja junto con el diagrama. Utiliza el menu desplegable que se genera al ejecutar la celda para inspeccionar los distintos orbitales. Se muestran los orbitales internos solo si se ha indicado en la casilla anterior. Si se cambia el valor de la casilla, vuelve a ejecutar la celda siguiente para ver los cambios"
   ]
  },
  {
   "cell_type": "code",
   "execution_count": 13,
   "id": "appropriate-tennis",
   "metadata": {
    "hide_input": false,
    "scrolled": false
   },
   "outputs": [
    {
     "data": {
      "application/vnd.jupyter.widget-view+json": {
       "model_id": "cdff286b7ea04e15834dc88889942fe6",
       "version_major": 2,
       "version_minor": 0
      },
      "text/plain": [
       "HBox(children=(VBox(children=(Output(), NGLWidget(), interactive(children=(Dropdown(description='MO:', options…"
      ]
     },
     "metadata": {},
     "output_type": "display_data"
    }
   ],
   "source": [
    "# ** ENERGIES **\n",
    "# Get symms\n",
    "pg = psi4_mol.point_group()\n",
    "ct = pg.char_table()\n",
    "irep_symbols = [ ct.gamma(i).symbol() for i in range(pg.order()) ]\n",
    "\n",
    "# Get MO energies (per symm)\n",
    "mo_symm_eners = wfn.epsilon_a().nph\n",
    "    \n",
    "# Get all in one array and sort\n",
    "mo_all_eners = np.concatenate(mo_symm_eners)\n",
    "inds = np.argsort(mo_all_eners)\n",
    "\n",
    "# Get symm labels\n",
    "mo_all_ireps = []\n",
    "for i,mo_symm_ener in enumerate(mo_symm_eners):\n",
    "    for j,ii in enumerate([i]*len(mo_symm_ener)):\n",
    "        mo_all_ireps.append(str(j+1)+'-'+irep_symbols[ii])\n",
    "mo_all_ireps = np.array(mo_all_ireps)\n",
    "\n",
    "# Sort mo_ireps and mo_eners together\n",
    "mo_all_ireps = mo_all_ireps[inds]\n",
    "mo_all_eners = mo_all_eners[inds]\n",
    "# Get last core index\n",
    "i_core = n_core-1\n",
    "mo_all_shell = ['C']*(i_core+1) + ['V']*(len(mo_all_eners)-i_core-1)\n",
    "\n",
    "# Manage degenerancies\n",
    "mo_diagram=[]\n",
    "ener_last=99999.\n",
    "for ener,irep,shell in zip(mo_all_eners,mo_all_ireps,mo_all_shell):\n",
    "    if np.isclose(ener,ener_last,atol=0.001):\n",
    "        for i in range(len(mo_diagram[-1])):\n",
    "            mo_diagram[-1][-1][3] = 'D'+str(i+1)\n",
    "        mo_diagram[-1].append([ener,irep,shell,'D'+str(i+2)])\n",
    "    else:\n",
    "        mo_diagram.append([[ener,irep,shell,'ND']])\n",
    "    ener_last=ener\n",
    "    \n",
    "# Make a mapping from serial to with-degenerancies\n",
    "all_to_diagram_map = []\n",
    "for i,levels in enumerate(mo_diagram):\n",
    "    for j,level in enumerate(levels):\n",
    "        all_to_diagram_map.append([i,j])\n",
    "        \n",
    "# ** DIAGRAM (FIGURE) **\n",
    "# WARNING: figures must be closed\n",
    "out_diagram1 = Output(layout={'border': '1px solid black'})\n",
    "with out_diagram1:\n",
    "    OMdiagram1, ax1 = plt.subplots(1,figsize=(1.8,6))\n",
    "    OMdiagram1.tight_layout()\n",
    "    OMdiagram1.canvas.header_visible = False\n",
    "    ax1.set_ylabel('Energy, a.u.')\n",
    "    ax1.set_xticklabels([])\n",
    "\n",
    "    for level in mo_diagram:\n",
    "        # Skip core orbitals\n",
    "        if level[0][2] == 'C' and skip_core:\n",
    "            continue\n",
    "        if len(level) == 1:\n",
    "            ax1.hlines(level[0][0],xmin=1.6,xmax=2.4,color='k')\n",
    "        else:\n",
    "            ax1.hlines(level[0][0],xmin=1.5,xmax=1.9,color='k')\n",
    "            ax1.hlines(level[1][0],xmin=2.1,xmax=2.5,color='k')\n",
    "\n",
    "# Initialize orb/geo ids\n",
    "if skip_core:\n",
    "    i0  = i_core + 1\n",
    "else:\n",
    "    i0 = 0\n",
    "    \n",
    "# Get list of orbitals\n",
    "orbital_list = []\n",
    "k = 0\n",
    "for i,j in all_to_diagram_map:\n",
    "    orbital_list.append(str(k+1)+'_'+mo_diagram[i][j][1])\n",
    "    k += 1\n",
    "    \n",
    "# Initialize (cont'd)\n",
    "mo_ = orbital_list[i0]\n",
    "iso_ = 0.02\n",
    "repr_type_ = 'superficie'\n",
    "highlighted = None\n",
    "    \n",
    "# Initialize view\n",
    "cubefile = cube_path + 'Psi_a_'+orbital_list[i0]+'.cube'\n",
    "mol = ase.io.read(cubefile)\n",
    "view3 = nv.show_ase(mol)\n",
    "view3.parameters = {\"clipNear\": 0, \"clipFar\": 100, \"clipDist\": 1}\n",
    "\n",
    "# Store orbs surfare representations\n",
    "orbs = []\n",
    "# component_1 (store component address in orbs list)\n",
    "orbs.append(view3.add_component(cubefile))\n",
    "orbs[-1].clear()\n",
    "orbs[-1].add_surface(opacity=0.5, color='blue', isolevelType=\"value\", isolevel=0.02)\n",
    "orbs[-1].add_surface(opacity=0.5, color='red',  isolevelType=\"value\", isolevel=-0.02, depthWrite=False)\n",
    "orbs[-1].hide()\n",
    "\n",
    "# Build an output container to print info about orbital\n",
    "out_label=Output()\n",
    "\n",
    "# DISPLAY\n",
    "    \n",
    "def update_repr(mo,iso,repr_type):\n",
    "    global view3, orbs, mo_, iso_, repr_type_, highlighted\n",
    "    \n",
    "    # Only one MO is loaded in memory (for all geoms)\n",
    "    # So, if it changes, reload the right one\n",
    "    if (mo != mo_ or iso != iso_ or repr_type != repr_type_):\n",
    "        #Update mo (load new set)\n",
    "        # Set is_wire\n",
    "        if repr_type == 'superficie':\n",
    "            is_wire = False\n",
    "        else:\n",
    "            is_wire = True\n",
    "        # remove current\n",
    "        for orb in orbs:\n",
    "            view3.remove_component(orb)\n",
    "        # load new mo\n",
    "        orbs=[]\n",
    "        cubefile = cube_path + 'Psi_a_'+mo+'.cube'\n",
    "        # component_1 (store component address in orbs list)\n",
    "        orbs.append(view3.add_component(cubefile))\n",
    "        orbs[-1].clear()\n",
    "        orbs[-1].add_surface(opacity=0.5, wireframe=is_wire, color='blue', isolevelType=\"value\", isolevel=abs(iso))\n",
    "        orbs[-1].add_surface(opacity=0.5, wireframe=is_wire, color='red',  isolevelType=\"value\", isolevel=-abs(iso), depthWrite=False)\n",
    "        orbs[-1].hide()\n",
    "        \n",
    "    # Display selected\n",
    "    orbs[-1].show()\n",
    "    \n",
    "    # Update diagram\n",
    "    k = int(mo.split('_')[0])-1\n",
    "    i,j = all_to_diagram_map[k]\n",
    "    ener = mo_diagram[i][j][0]\n",
    "    if mo_diagram[i][j][3] == 'ND':\n",
    "        x0, xf = 1.6, 2.4\n",
    "    elif mo_diagram[i][j][3] == 'D1':\n",
    "        x0, xf = 1.5, 1.9\n",
    "    elif mo_diagram[i][j][3] == 'D2':\n",
    "        x0, xf = 2.1, 2.5\n",
    "    else:\n",
    "        x0, xf = 2.6, 2.9\n",
    "    if highlighted:\n",
    "        highlighted.remove()\n",
    "    highlighted = ax1.hlines(ener,xmin=x0,xmax=xf,linewidths=3,color='yellow', visible=True, alpha=0.7)\n",
    "    \n",
    "    # Update atom info\n",
    "    out_label.clear_output()\n",
    "    with out_label:\n",
    "        print('MO: {}  |  E(hartree) = {:8.3f}'.format(mo,ener))\n",
    "    \n",
    "    # Update ids\n",
    "    mo_ = mo\n",
    "    repr_type_ = repr_type\n",
    "    iso_ = iso\n",
    "    \n",
    "    \n",
    "# DISPLAY\n",
    "controls = interactive(update_repr, \n",
    "                       mo=widgets.Dropdown(options=orbital_list[i0:],\n",
    "                                           value=orbital_list[i0],\n",
    "                                           description='MO:'),\n",
    "                       iso=widgets.FloatText(value = 0.02, step=0.01, description = 'Isovalor'),\n",
    "                       repr_type=widgets.Dropdown(options=['superficie','malla'],\n",
    "                                                   value='superficie',\n",
    "                                                   description='Representación'))\n",
    "surfbox = VBox([out_label,view3, controls],layout={'width': '700px'})\n",
    "HBox([surfbox,out_diagram1])"
   ]
  },
  {
   "cell_type": "markdown",
   "id": "gothic-pressing",
   "metadata": {},
   "source": [
    "--------------------------\n",
    "\n",
    "## Barrido de la distancia de enlace\n",
    "\n",
    "Como hemos comentado al inicio, a cada estrucutra molecular le corresponde un valor de energía potencial total. Es decir, el potencial es una función de la geometría de la molécula, definida por la posición relativa de los núcleos atómicos: $V(\\mathbf{R})$. En general, llamaremos a esta función \\textbf{superficie de energía potencial}, que dependerá del número de coordenadas internucleares. En el caso de moléculas diatómicas, donde la geometría queda definida con solo un parámetro (distancia de enlace), tendremos una curva de potencial monodimensional. \n",
    "\n",
    "En la sección anterior nos hemos fijado en la estrucutra para la que esa función es un mínimo (estructura de equilibrio). Este es un punto muy relevante de la superficie de energía potencial, pero conocer esta función más allá del mínimo nos permite entender cómo se mueven las moléculas (vibraciones, flexibilidad...) y analizar su reactividad (rotura y formación de enlaces). En esta práctica, vamos a analizar la curva de energía potencial para la molécula diatómica que estamos tratando. Para ello, calcularemos la energía (y orbitales moleculares) para distintos valores de la distancia de equilibrio.\n",
    "\n",
    "Usa los formularios que se generan al ejecutar la siguiente celda para seleccionar el rango para el que vamos a realizar el barrido de la distancia de enlace."
   ]
  },
  {
   "cell_type": "code",
   "execution_count": 14,
   "id": "incident-welsh",
   "metadata": {},
   "outputs": [
    {
     "data": {
      "application/vnd.jupyter.widget-view+json": {
       "model_id": "171a6192011f4543a0bfae48e1430be8",
       "version_major": 2,
       "version_minor": 0
      },
      "text/plain": [
       "interactive(children=(FloatText(value=0.8, description='Rmin (Å)'), FloatText(value=2.5, description='Rmax (Å)…"
      ]
     },
     "metadata": {},
     "output_type": "display_data"
    }
   ],
   "source": [
    "def get_var(option1,option2,option3):\n",
    "    global dmin, dmax, nstep\n",
    "    dmin = option1\n",
    "    dmax = option2\n",
    "    nstep = option3\n",
    "    \n",
    "    print('\\n')\n",
    "    print('Parámetros para el barrido:\\n----------------------------')\n",
    "    print('Rmin  = {:5.1f}'.format(dmin))\n",
    "    print('Rmax  = {:5.1f}'.format(dmax))\n",
    "    print('Pasos = {:5}'.format(nstep))\n",
    "    \n",
    "    return None\n",
    "\n",
    "interactive(get_var,\n",
    "            option1 = widgets.FloatText(value = 0.80, description = 'Rmin (Å)'),\n",
    "            option2 = widgets.FloatText(value = 2.50, description = 'Rmax (Å)'),\n",
    "            option3 = widgets.BoundedIntText(value = 10, min=2, step=1, description = 'Pasos'))"
   ]
  },
  {
   "cell_type": "markdown",
   "id": "identified-bearing",
   "metadata": {},
   "source": [
    "Una vez definido el rango a lo largo del que se hará el barrido, ejecuta la siguiente celda para realizar los cálculos"
   ]
  },
  {
   "cell_type": "code",
   "execution_count": 15,
   "id": "looking-influence",
   "metadata": {
    "scrolled": true
   },
   "outputs": [
    {
     "name": "stdout",
     "output_type": "stream",
     "text": [
      "Energía total a lo largo del barrido\n",
      "\n",
      "\n",
      "          R [Ang]                 E [hartree]       \n",
      "---------------------------------------------------------\n",
      "           0.800                  -100.394368\n",
      "           0.989                  -100.417434\n",
      "           1.178                  -100.384222\n",
      "           1.367                  -100.340090\n",
      "           1.556                  -100.298136\n",
      "           1.744                  -100.261856\n",
      "           1.933                  -100.231401\n",
      "           2.122                  -100.206564\n",
      "           2.311                  -100.186540\n",
      "           2.500                  -100.170480\n",
      "---------------------------------------------------------\n",
      "\n"
     ]
    }
   ],
   "source": [
    "# First check funcional and base (not present if section 3 is skiped)\n",
    "if 'funcional' not in globals():\n",
    "    print('Selecciona un funcional y una base primero')\n",
    "elif 'base' not in globals():\n",
    "    print('Selecciona un funcional y una base primero')\n",
    "else:\n",
    "\n",
    "    # Clean cube directories first\n",
    "    geom_folders = glob.glob(job_path+'GEOM*')\n",
    "    for folder in geom_folders:\n",
    "        shutil.rmtree(folder, ignore_errors=True)\n",
    "\n",
    "    # Scan range\n",
    "    distances = np.linspace(dmin,dmax,nstep)\n",
    "\n",
    "    # Define interatomic unitary vector\n",
    "    geom = psi4_mol.geometry().np\n",
    "    v = geom[1]-geom[0]\n",
    "    u = v/np.linalg.norm(v)\n",
    "\n",
    "    # Initialize arrays to store data\n",
    "    ener_scan = []\n",
    "    dist_scan = []\n",
    "    success_scan = []\n",
    "    mo_symm_eners_scan = []\n",
    "\n",
    "    # Prints to screen\n",
    "    print(\"Energía total a lo largo del barrido\\n\\n\")\n",
    "    print(\"          R [Ang]                 E [hartree]       \")\n",
    "    print(\"---------------------------------------------------------\")\n",
    "\n",
    "\n",
    "    for i,dist in enumerate(distances):\n",
    "        # Generate new geom (better from xyz string with updated R)\n",
    "        dist = np.round(dist,3)\n",
    "        geom = psi4_mol.geometry().np\n",
    "        geom[1] = geom[0] + u*dist/psi4.constants.bohr2angstroms\n",
    "        geom=psi4.core.Matrix.from_array(geom)\n",
    "        psi4_mol.set_geometry(geom)\n",
    "        try: \n",
    "            E, wfn = psi4.energy(funcional+'/'+base,return_wfn=True)\n",
    "            ener_scan.append(E)\n",
    "            dist_scan.append(dist)\n",
    "            success_scan.append(True)\n",
    "            # Update table\n",
    "            print(\"           {:5.3f}                  {:<1.6f}\".format(dist, E))\n",
    "            # Cubefiles\n",
    "            geom_folder = job_path + 'GEOM_{:03g}'.format(i)+'/'\n",
    "            os.mkdir(geom_folder)\n",
    "\n",
    "            psi4.driver.p4util.cubeprop(wfn)\n",
    "\n",
    "            cubefiles = glob.glob('Psi_*cube')\n",
    "            for cubefile in cubefiles:\n",
    "                os.rename(cubefile,geom_folder + cubefile)\n",
    "            os.rename('geom.xyz',geom_folder + 'geom.xyz')\n",
    "            # MO energies\n",
    "            mo_symm_eners_scan.append(wfn.epsilon_a().nph)\n",
    "\n",
    "        except:\n",
    "            dist_scan.append(dist)\n",
    "            ener_scan.append(None)\n",
    "            success_scan.append(False)\n",
    "            # Update table\n",
    "            print(\"           {:5.3f}                  {:}\".format(dist, 'ERROR'))\n",
    "    print(\"---------------------------------------------------------\\n\")"
   ]
  },
  {
   "cell_type": "markdown",
   "id": "dated-department",
   "metadata": {},
   "source": [
    "### Curva de energía\n",
    "\n",
    "Una vez realizados los cálculos, podemos representar la curva de energía. Para ello, en lugar de usar directamente los datos de energía absoluta total en Hartrees, es más conveniente realizar la representación de la energía respecto a una geometría de referencia en unidades con más \"sentido químico\", como kcal/mol.\n",
    "\n",
    "Ejecuta la siguiente celda y selecciona los parámetros de la representación."
   ]
  },
  {
   "cell_type": "code",
   "execution_count": 16,
   "id": "random-prior",
   "metadata": {},
   "outputs": [
    {
     "data": {
      "application/vnd.jupyter.widget-view+json": {
       "model_id": "4c87c3cb8a5f46ec9e4983bf570ef169",
       "version_major": 2,
       "version_minor": 0
      },
      "text/plain": [
       "VBox(children=(interactive(children=(Checkbox(value=True, description='Energía relativa'), Dropdown(descriptio…"
      ]
     },
     "metadata": {},
     "output_type": "display_data"
    }
   ],
   "source": [
    "out_curve = Output()\n",
    "with out_curve:\n",
    "    pes_fig, pes_plot = plt.subplots(1)\n",
    "    pes_fig.tight_layout()\n",
    "    pes_fig.canvas.header_visible = False\n",
    "    pos1 = pes_plot.get_position() # get the original position \n",
    "    pos2 = [pos1.x0 + 0.1, pos1.y0 + 0.05,  pos1.width * 0.9, pos1.height * 0.95] \n",
    "    pes_plot.set_position(pos2) # set a new position\n",
    "    \n",
    "out_msg = Output()\n",
    "\n",
    "def update_plot(is_relative,ref_geom,units):\n",
    "    global dist_scan, ener_scan, success_scan\n",
    "    \n",
    "    out_msg.clear_output()\n",
    "    \n",
    "    # Relative geom\n",
    "    if is_relative:\n",
    "        i_ref = dist_scan.index(ref_geom)\n",
    "        if not success_scan[i_ref]:\n",
    "            with out_msg:\n",
    "                print('ERROR: el cálculo falló a la geometría seleccionada. Dist = {:5.3f}'\n",
    "                      .format(dist_scan[i_ref]))\n",
    "            pes_plot.clear()\n",
    "            return None\n",
    "        Eref = ener_scan[i_ref]\n",
    "    else:\n",
    "        Eref = 0\n",
    "    \n",
    "    # Filter data (to discard failed jobs)\n",
    "    ener_sucess = np.array(ener_scan)[np.array(success_scan)==True]\n",
    "    dist_sucess = np.array(dist_scan)[np.array(success_scan)==True]\n",
    "    dist_failed = np.array(dist_scan)[np.array(success_scan)==False]\n",
    "\n",
    "    # Compute relative energy\n",
    "    if units == 'kcal/mol':\n",
    "        factor = qcel.constants.hartree2kcalmol\n",
    "    elif units == 'kJ/mol':\n",
    "        factor = qcel.constants.hartree2kJmol\n",
    "    elif units == 'eV':\n",
    "        factor = qcel.constants.hartree2ev\n",
    "    elif units == 'cm-1':\n",
    "        factor = qcel.constants.hartree2wavenumbers\n",
    "    elif units == 'Hartree':\n",
    "        factor = 1\n",
    "    \n",
    "    Eplot = (ener_sucess - Eref) * factor\n",
    "    \n",
    "    # Make interpolation (only possible if we have 4 data points at least)\n",
    "    if len(Eplot)>3:\n",
    "        interpo = interp1d(dist_sucess, Eplot, kind='cubic',fill_value='extrapolate')\n",
    "    else:\n",
    "        interpo = interp1d(dist_sucess, Eplot, kind='linear',fill_value='extrapolate')\n",
    "    \n",
    "    # Update plot\n",
    "    # Sucessful points\n",
    "    pes_plot.clear()\n",
    "    pes_plot.set_ylabel('Energía ({})'.format(units))\n",
    "    pes_plot.set_xlabel('R (Å)')\n",
    "    pes_plot.plot(dist_sucess,Eplot,'ob')\n",
    "    # Interpolation\n",
    "    xdata = np.linspace(dist_sucess[0],dist_sucess[-1],100)\n",
    "    pes_plot.plot(xdata,interpo(xdata),'--k')\n",
    "    # Failed point (interpolated/extrapolated)\n",
    "    pes_plot.plot(dist_failed,interpo(dist_failed),'xr')\n",
    "    \n",
    "    return None\n",
    "    \n",
    "    \n",
    "    \n",
    "units_list = ['kcal/mol','kJ/mol','Hartree','eV','cm-1']\n",
    "controls = interactive(update_plot,\n",
    "            is_relative = widgets.Checkbox(value = True, description='Energía relativa'),\n",
    "            ref_geom = widgets.Dropdown(options = dist_scan, description = 'Ref. Geom. (Å)'),\n",
    "            units = widgets.Dropdown(options = units_list, description = 'Unidades'))\n",
    "VBox([controls,out_curve,out_msg])"
   ]
  },
  {
   "cell_type": "markdown",
   "id": "blocked-rapid",
   "metadata": {},
   "source": [
    "### Orbitales moleculares\n",
    "\n",
    "Por último, vamos a echar un vistazo a cómo cambian los orbitales a lo largo del barrido. Ejecuta la celda siguiente para obtener un menu interactivo para visualizar los orbitales. Ten en cuenta que, al seleccionar una orbital, se cargan los datos de este orbital para todas las geometrías, por lo que puede tarda unos segundos. La actualización al cambial la geometría es más fluída."
   ]
  },
  {
   "cell_type": "code",
   "execution_count": 17,
   "id": "musical-westminster",
   "metadata": {},
   "outputs": [
    {
     "data": {
      "application/vnd.jupyter.widget-view+json": {
       "model_id": "c3c5085481ea44fca97cadc117abd71e",
       "version_major": 2,
       "version_minor": 0
      },
      "text/plain": [
       "interactive(children=(Checkbox(value=True, description='Ignorar OM internos'), Checkbox(value=True, descriptio…"
      ]
     },
     "metadata": {},
     "output_type": "display_data"
    }
   ],
   "source": [
    "# Get core orbitals\n",
    "n_per_shell = [1,4,9,16,]\n",
    "n_core = 0\n",
    "n_vale = 0\n",
    "for Z in mol.numbers:\n",
    "    p = qcel.periodictable.to_period(Z)\n",
    "    n_core += np.array([ n_per_shell[i] for i in range(p-1) ],dtype=int).sum()\n",
    "    n_vale += n_per_shell[p-1]\n",
    "\n",
    "# Set interactive option\n",
    "def get_var(option1,option2):\n",
    "    global skip_core, only_vale\n",
    "    skip_core = option1\n",
    "    only_vale = option2\n",
    "    return None\n",
    "\n",
    "interactive(get_var,\n",
    "            option1 = widgets.Checkbox(value=True,description='Ignorar OM internos'),\n",
    "            option2 = widgets.Checkbox(value=True,description='Mostrar capa de valencia mínima'))"
   ]
  },
  {
   "cell_type": "code",
   "execution_count": 18,
   "id": "organizational-dating",
   "metadata": {
    "scrolled": false
   },
   "outputs": [
    {
     "data": {
      "application/vnd.jupyter.widget-view+json": {
       "model_id": "6fe8bca03e184c81b5eeb92a9b7d4071",
       "version_major": 2,
       "version_minor": 0
      },
      "text/plain": [
       "HBox(children=(VBox(children=(Output(), NGLWidget(max_frame=9), interactive(children=(IntSlider(value=0, descr…"
      ]
     },
     "metadata": {},
     "output_type": "display_data"
    }
   ],
   "source": [
    "###############################\n",
    "## ** TRAYECTORIA **\n",
    "###############################\n",
    "# Set traj view\n",
    "## Name of intermediate file\n",
    "trfile=job_path + 'scan.traj'\n",
    "# From single sctructures to trajectory loaded on nglview\n",
    "## Get structures into ase object\n",
    "mols = []\n",
    "mol_files = glob.glob(job_path + 'GEOM_*/geom.xyz')\n",
    "mol_files.sort()\n",
    "for file in mol_files:\n",
    "    mols.append(ase.io.read(file))\n",
    "## Write into traj file\n",
    "ase.io.write(trfile,mols)\n",
    "## Read trajectory intp ase and convert to nglview object\n",
    "asetraj = ase.io.trajectory.TrajectoryReader(trfile)\n",
    "## Generate view with trajectory\n",
    "view4 = nv.show_asetraj(asetraj)\n",
    "view4.parameters = {\"clipNear\": 0, \"clipFar\": 100, \"clipDist\": 1}\n",
    "# Disable embeded player slider\n",
    "view4.player.widget_player_slider.close()\n",
    "\n",
    "\n",
    "###############################\n",
    "## ** ORBITALES **\n",
    "###############################\n",
    "# Initialize ids (geo)\n",
    "geo_ = 0\n",
    "\n",
    "\n",
    "# \n",
    "# ** ENERGIES **\n",
    "# \n",
    "# Get symmetry (irep) symbols (assume PG is not changing with geom)\n",
    "pg = psi4_mol.point_group()\n",
    "ct = pg.char_table()\n",
    "irep_symbols = [ ct.gamma(i).symbol() for i in range(pg.order()) ]\n",
    "\n",
    "# Get MO energies (per symm) at the selected geom\n",
    "mo_symm_eners = mo_symm_eners_scan[geo_]\n",
    "# Paste (concatenate) data for all symms\n",
    "mo_all_eners = np.concatenate(mo_symm_eners)\n",
    "mo_sym_ireps = [ np.array([i]*len(l)) for i,l in enumerate(mo_symm_eners) ]\n",
    "mo_sym_ireps = [ np.array([ str(i+1)+'-'+irep_symbols[j] \\\n",
    "                           for i,j in enumerate(irep_symm)]) for irep_symm in mo_sym_ireps]\n",
    "mo_all_ireps = np.concatenate(mo_sym_ireps)\n",
    "inds = np.argsort(mo_all_eners)\n",
    "\n",
    "# Sort mo_ireps and mo_eners together\n",
    "mo_all_ireps = mo_all_ireps[inds]\n",
    "mo_all_eners = mo_all_eners[inds]\n",
    "\n",
    "#\n",
    "# ** DIAGRAM (FIGURE) **\n",
    "#\n",
    "# WARNING: figures must be closed\n",
    "out_diagram2 = Output(layout={'border': '1px solid black'})\n",
    "with out_diagram2:\n",
    "    OMdiagram2, ax2 = plt.subplots(1,figsize=(1.8,6))\n",
    "    OMdiagram2.tight_layout()\n",
    "    OMdiagram2.canvas.header_visible = False\n",
    "    pos1 = ax2.get_position() # get the original position \n",
    "    pos2 = [pos1.x0 + 0.1, pos1.y0 + 0.05,  pos1.width * 0.9, pos1.height * 0.95] \n",
    "    pes_plot.set_position(pos2) # set a new position\n",
    "    ax2.set_ylabel('Energy, a.u.')\n",
    "    ax2.set_xticklabels([])\n",
    "\n",
    "# \n",
    "# ** DRAW ORBS **\n",
    "# \n",
    "# Initialize (cont'd)\n",
    "if skip_core:\n",
    "    i0  = n_core\n",
    "else:\n",
    "    i0 = 0\n",
    "if only_vale:\n",
    "    ilast = n_core + n_vale\n",
    "else:\n",
    "    ilast = len(mo_all_eners)\n",
    "mo_ = mo_all_ireps[i0]\n",
    "highlighted = None\n",
    "iso_ = 0.02\n",
    "repr_type_ = 'superficie'\n",
    "\n",
    "    \n",
    "# Get cubefiles\n",
    "cube_files = glob.glob(job_path + 'GEOM_*/Psi_a_*_'+mo_+'.cube')\n",
    "cube_files.sort()\n",
    "\n",
    "# Initialize orbs surfare representations\n",
    "orbs = []\n",
    "for cubefile in cube_files:\n",
    "    orbs.append(view4.add_component(cubefile))\n",
    "    orbs[-1].clear()\n",
    "    orbs[-1].add_surface(opacity=0.5, wireframe=False, color='blue', isolevelType=\"value\", isolevel=abs(iso_))\n",
    "    orbs[-1].add_surface(opacity=0.5, wireframe=False, color='red',  isolevelType=\"value\", isolevel=-abs(iso_), depthWrite=False)\n",
    "    orbs[-1].hide()\n",
    "\n",
    "# Build an output container to print info about orbital\n",
    "out_label=Output()\n",
    "\n",
    "# DISPLAY\n",
    "    \n",
    "def update_repr(geo,mo,iso,repr_type):\n",
    "    global view4, orbs, geo_, mo_, iso_, repr_type_, highlighted, mo_ener\n",
    "    \n",
    "    # Initialize to catch when data are not loaded\n",
    "    have_cube_data = True\n",
    "    \n",
    "    # Only one MO is loaded in memory (for all geoms)\n",
    "    # So, if it changes, reload the right one\n",
    "    if (mo != mo_ or iso != iso_ or repr_type != repr_type_):\n",
    "        out_label.clear_output()\n",
    "        with out_label:\n",
    "            print('Espera mientras se cargan los orbitales')\n",
    "        #Update mo (load new set)\n",
    "        # Set is_wire\n",
    "        if repr_type == 'superficie':\n",
    "            is_wire = False\n",
    "        else:\n",
    "            is_wire = True\n",
    "        # remove current\n",
    "        for orb in orbs:\n",
    "            view4.remove_component(orb)\n",
    "        # load new mo\n",
    "        orbs=[]\n",
    "        cube_files = glob.glob(job_path + 'GEOM_*/Psi_a_*_'+mo+'.cube')\n",
    "        cube_files.sort()\n",
    "        for cubefile in cube_files:\n",
    "            orbs.append(view4.add_component(cubefile))\n",
    "            orbs[-1].clear()\n",
    "            orbs[-1].add_surface(opacity=0.5, wireframe=is_wire, \n",
    "                                 color='blue', isolevelType=\"value\", isolevel=abs(iso))\n",
    "            orbs[-1].add_surface(opacity=0.5, wireframe=is_wire, \n",
    "                                 color='red',  isolevelType=\"value\", isolevel=-abs(iso), depthWrite=False)\n",
    "            orbs[-1].hide()\n",
    "            \n",
    "    if (mo != mo_ or geo != geo_ or highlighted == None):\n",
    "        # Get MO energies (per symm) at the selected geom\n",
    "        mo_symm_eners = mo_symm_eners_scan[geo]\n",
    "        # Paste (concatenate) data for all symms\n",
    "        mo_all_eners = np.concatenate(mo_symm_eners)\n",
    "        mo_sym_ireps = [ np.array([i]*len(l)) for i,l in enumerate(mo_symm_eners) ]\n",
    "        mo_sym_ireps = [ np.array([ str(i+1)+'-'+irep_symbols[j] \\\n",
    "                                   for i,j in enumerate(irep_symm)]) for irep_symm in mo_sym_ireps]\n",
    "        mo_all_ireps = np.concatenate(mo_sym_ireps)\n",
    "        inds = np.argsort(mo_all_eners)\n",
    "\n",
    "        # Sort mo_ireps and mo_eners together\n",
    "        mo_all_ireps = mo_all_ireps[inds]\n",
    "        mo_all_eners = mo_all_eners[inds]\n",
    "\n",
    "        # ** DIAGRAM (FIGURE) **\n",
    "        # WARNING: figures must be closed\n",
    "        ax2.clear()\n",
    "        ax2.set_ylabel('Energy, a.u.')\n",
    "        ax2.set_xticklabels([])\n",
    "\n",
    "        # Manage degenerancies\n",
    "        levels = []\n",
    "        ener_ = 99999.\n",
    "        for ener,symm in zip(mo_all_eners[i0:ilast],mo_all_ireps[i0:ilast]):\n",
    "            if np.isclose(ener,ener_,atol=0.01):\n",
    "                levels[-1].append([ener,symm])\n",
    "            else:\n",
    "                levels.append([[ener,symm]])\n",
    "            ener_=ener\n",
    "            \n",
    "        have_cube_data = False\n",
    "        hl0 = None\n",
    "        for level in levels:\n",
    "            if len(level) == 1:\n",
    "                ax2.hlines(level[0][0],xmin=-0.5,xmax=0.5,color='k')\n",
    "                if level[0][1] == mo:\n",
    "                    ener, hl0, hlf = level[0][0], -0.5, 0.5\n",
    "                    \n",
    "            elif len(level) == 2:\n",
    "                ax2.hlines(level[0][0],xmin=-0.65,xmax=-0.15,color='k')\n",
    "                if level[0][1] == mo:\n",
    "                    ener, hl0, hlf = level[0][0], -0.65, -0.15\n",
    "               #    \n",
    "                ax2.hlines(level[1][0],xmin=0.15,xmax=0.65,color='k')\n",
    "                if level[1][1] == mo:\n",
    "                    ener, hl0, hlf = level[1][0], 0.15, 0.65\n",
    "            else:\n",
    "                # Fix ini-fin, and fit levels within\n",
    "                # Settings\n",
    "                sep_space = 0.02\n",
    "                lev_ini = -0.7\n",
    "                lev_fin = 0.7\n",
    "                #\n",
    "                sep_spaces = sep_space*(len(level)-1)\n",
    "                lev_space = (lev_fin-lev_ini-sep_spaces)/len(level)\n",
    "                l0_ = lev_ini - sep_space\n",
    "                for i in range(len(level)):\n",
    "                    l0 = l0_ + sep_space\n",
    "                    lf = l0  + lev_space\n",
    "                    ax2.hlines(level[i][0],xmin=l0,xmax=lf,color='k')\n",
    "                    if level[i][1] == mo:\n",
    "                        ener, hl0, hlf = level[i][0], l0, lf\n",
    "                    l0_ = lf\n",
    "        \n",
    "        if hl0 is not None:\n",
    "            have_cube_data = True\n",
    "            # Highlight selected\n",
    "            if highlighted:\n",
    "                highlighted.remove()\n",
    "            highlighted = ax2.hlines(ener,xmin=hl0,xmax=hlf,\n",
    "                                     linewidths=3,color='yellow', visible=True, alpha=0.7)\n",
    "        mo_ener = ener\n",
    "        \n",
    "    #Update geo\n",
    "    # Geom\n",
    "    view4.frame = geo\n",
    "    # Orbs\n",
    "    orbs[geo_].hide()\n",
    "        \n",
    "    # Update atom info\n",
    "    out_label.clear_output()\n",
    "    if have_cube_data:\n",
    "        # Display selected\n",
    "        orbs[geo].show()\n",
    "        with out_label:\n",
    "            print('MO: {}  |  E(hartree) = {:8.3f}'.format(mo,mo_ener))\n",
    "    else:\n",
    "        with out_label:\n",
    "            print('MO: {}  |  No hay datos'.format(mo))\n",
    "    \n",
    "\n",
    "    \n",
    "    # Update ids\n",
    "    mo_=mo\n",
    "    geo_=geo\n",
    "    repr_type_=repr_type\n",
    "    iso_=iso\n",
    "    \n",
    "    \n",
    "# DISPLAY\n",
    "controls = interactive(update_repr,\n",
    "                       geo=widgets.IntSlider(value=0,min=0,max=len(cube_files)-1,description='Geom'),\n",
    "                       mo=widgets.Dropdown(options=list(mo_all_ireps[i0:ilast]),\n",
    "                                           value=mo_all_ireps[i0],\n",
    "                                           description='MO:'),\n",
    "                       iso=widgets.FloatText(value = 0.02, step=0.01, description = 'Isovalor'),\n",
    "                       repr_type=widgets.Dropdown(options=['superficie','malla'],\n",
    "                                                   value='superficie',\n",
    "                                                   description='Representación'))\n",
    "surfbox = VBox([out_label,view4, controls],layout={'width': '700px'})\n",
    "HBox([surfbox,out_diagram2])\n",
    "\n"
   ]
  },
  {
   "cell_type": "markdown",
   "id": "polar-israeli",
   "metadata": {},
   "source": [
    "## Borrar datos\n",
    "\n",
    "Al finalizar la práctica, pulsa sobre el botón que se genera a ejecutar la siguiente celda para borrar los datos. Es posible que tengas que pulsar dos veces (el botón debe \"responder\" que ha borrado los datos si los había).\n",
    "\n",
    "¡Aseguraté de haber guardado los datos que te vaya a hacer falta!"
   ]
  },
  {
   "cell_type": "code",
   "execution_count": 44,
   "id": "polish-logistics",
   "metadata": {},
   "outputs": [
    {
     "data": {
      "application/vnd.jupyter.widget-view+json": {
       "model_id": "1f9c7f28a93a46e88fcbaea4a4466655",
       "version_major": 2,
       "version_minor": 0
      },
      "text/plain": [
       "VBox(children=(interactive(children=(ToggleButton(value=False, description='Borrar datos', icon='remove'), Out…"
      ]
     },
     "metadata": {},
     "output_type": "display_data"
    }
   ],
   "source": [
    "n_clicks = 0\n",
    "\n",
    "out_borrar = Output()\n",
    "\n",
    "import time\n",
    "\n",
    "def remove_data(opt):\n",
    "    \n",
    "    global job_path, n_clicks\n",
    "    \n",
    "    n_clicks += 1\n",
    "    out_borrar.clear_output()\n",
    "    \n",
    "    # Since the function is called with the cell\n",
    "    # we need to skip the action the first time\n",
    "    # its called\n",
    "    if n_clicks>1:\n",
    "        n_clicks = 0\n",
    "        if os.path.exists(job_path):\n",
    "            shutil.rmtree(job_path, ignore_errors=True)\n",
    "            with out_borrar:\n",
    "                print('Datos borrados')\n",
    "            time.sleep(2)\n",
    "            out_borrar.clear_output()\n",
    "        else:\n",
    "            with out_borrar:\n",
    "                print('No hay datos que borrar')\n",
    "            time.sleep(2)\n",
    "            out_borrar.clear_output()\n",
    "    \n",
    "    return None\n",
    "\n",
    "controls = interactive(remove_data,\n",
    "            opt = widgets.ToggleButton(description = 'Borrar datos',\n",
    "                                       icon = 'remove'))\n",
    "VBox([controls, out_borrar])"
   ]
  },
  {
   "cell_type": "code",
   "execution_count": null,
   "id": "champion-ministry",
   "metadata": {},
   "outputs": [],
   "source": []
  }
 ],
 "metadata": {
  "kernelspec": {
   "display_name": "Python 3",
   "language": "python",
   "name": "python3"
  },
  "language_info": {
   "codemirror_mode": {
    "name": "ipython",
    "version": 3
   },
   "file_extension": ".py",
   "mimetype": "text/x-python",
   "name": "python",
   "nbconvert_exporter": "python",
   "pygments_lexer": "ipython3",
   "version": "3.7.3"
  },
  "toc": {
   "base_numbering": 1,
   "nav_menu": {},
   "number_sections": true,
   "sideBar": true,
   "skip_h1_title": true,
   "title_cell": "Table of Contents",
   "title_sidebar": "Contents",
   "toc_cell": false,
   "toc_position": {
    "height": "calc(100% - 180px)",
    "left": "10px",
    "top": "150px",
    "width": "227.533px"
   },
   "toc_section_display": true,
   "toc_window_display": true
  }
 },
 "nbformat": 4,
 "nbformat_minor": 5
}
